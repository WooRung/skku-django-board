{
 "cells": [
  {
   "cell_type": "markdown",
   "id": "7a557d33",
   "metadata": {},
   "source": [
    "# django 불러오기"
   ]
  },
  {
   "cell_type": "code",
   "execution_count": 1,
   "id": "159125a1",
   "metadata": {},
   "outputs": [],
   "source": [
    "import os, sys\n",
    "# PWD = os.getenv('PWD')\n",
    "PWD = os.path.abspath('.')\n",
    "\n",
    "PROJ_MISSING_MSG = \"\"\"Set an enviroment variable:\\n\n",
    "`DJANGO_PROJECT=your_project_name`\\n\n",
    "or call:\\n\n",
    "`init_django(your_project_name)`\n",
    "\"\"\"\n",
    "\n",
    "def init_django(project_name=None):\n",
    "    os.chdir(PWD)\n",
    "    project_name = project_name or os.environ.get('DJANGO_PROJECT') or None\n",
    "    if project_name == None:\n",
    "        raise Exception(PROJ_MISSING_MSG)\n",
    "    sys.path.insert(0, os.getenv('PWD'))\n",
    "    os.environ.setdefault('DJANGO_SETTINGS_MODULE', f'{project_name}.settings')\n",
    "    os.environ[\"DJANGO_ALLOW_ASYNC_UNSAFE\"] = \"true\"\n",
    "    import django\n",
    "    django.setup()"
   ]
  },
  {
   "cell_type": "code",
   "execution_count": 2,
   "id": "e104dd9c",
   "metadata": {},
   "outputs": [
    {
     "data": {
      "text/plain": [
       "'C:\\\\Users\\\\user\\\\django_project\\\\mydjango_board'"
      ]
     },
     "execution_count": 2,
     "metadata": {},
     "output_type": "execute_result"
    }
   ],
   "source": [
    "PWD"
   ]
  },
  {
   "cell_type": "code",
   "execution_count": 3,
   "id": "c3667237",
   "metadata": {
    "pycharm": {
     "name": ""
    }
   },
   "outputs": [],
   "source": [
    "init_django('mydjango_board') #project name"
   ]
  },
  {
   "cell_type": "markdown",
   "id": "62da1dd1",
   "metadata": {},
   "source": [
    "# model import"
   ]
  },
  {
   "cell_type": "code",
   "execution_count": 4,
   "id": "6d50fb38",
   "metadata": {},
   "outputs": [],
   "source": [
    "from board.models import Board, Comment"
   ]
  },
  {
   "cell_type": "markdown",
   "id": "53ccf411",
   "metadata": {},
   "source": [
    "# Insert or Update"
   ]
  },
  {
   "cell_type": "code",
   "execution_count": null,
   "id": "b7db172c",
   "metadata": {},
   "outputs": [],
   "source": [
    "board = Board(\n",
    "    title=\"게시글1\",\n",
    "    content=\"내용1\",\n",
    ")"
   ]
  },
  {
   "cell_type": "code",
   "execution_count": null,
   "id": "82c4644a",
   "metadata": {},
   "outputs": [],
   "source": [
    "board.save()"
   ]
  },
  {
   "cell_type": "code",
   "execution_count": null,
   "id": "e05bfcd7",
   "metadata": {},
   "outputs": [],
   "source": [
    "board"
   ]
  },
  {
   "cell_type": "markdown",
   "id": "52b76258",
   "metadata": {},
   "source": [
    "-> 내용 확인"
   ]
  },
  {
   "cell_type": "markdown",
   "id": "92c13bde",
   "metadata": {},
   "source": [
    "#### Manager 객체 - objects"
   ]
  },
  {
   "cell_type": "code",
   "execution_count": null,
   "id": "7b9833ba",
   "metadata": {},
   "outputs": [],
   "source": [
    "board = Board.objects.create(\n",
    "    title=\"게시글2\",\n",
    "    content=\"내용2\"\n",
    ")"
   ]
  },
  {
   "cell_type": "code",
   "execution_count": null,
   "id": "13912437",
   "metadata": {},
   "outputs": [],
   "source": []
  },
  {
   "cell_type": "code",
   "execution_count": null,
   "id": "9cced940",
   "metadata": {},
   "outputs": [],
   "source": [
    "board"
   ]
  },
  {
   "cell_type": "code",
   "execution_count": null,
   "id": "d424e3de",
   "metadata": {},
   "outputs": [],
   "source": [
    "board = Board.objects.create(\n",
    "    title=\"게시글3\",\n",
    "    content=\"내용3\"\n",
    ")"
   ]
  },
  {
   "cell_type": "code",
   "execution_count": null,
   "id": "570df29f",
   "metadata": {},
   "outputs": [],
   "source": [
    "board"
   ]
  },
  {
   "cell_type": "markdown",
   "id": "34406b4b",
   "metadata": {},
   "source": [
    "### 여러 게시글을 한번에 insert하기"
   ]
  },
  {
   "cell_type": "code",
   "execution_count": null,
   "id": "12db22de",
   "metadata": {},
   "outputs": [],
   "source": [
    "data = []\n",
    "for i in range(10):\n",
    "    board = Board(title=f\"새로운 게시글{i}\", content=f\"여러게시글 insert {i}\")\n",
    "    data.append(board)\n",
    "    \n"
   ]
  },
  {
   "cell_type": "code",
   "execution_count": null,
   "id": "74f2a8ca",
   "metadata": {},
   "outputs": [],
   "source": [
    "print(data)"
   ]
  },
  {
   "cell_type": "code",
   "execution_count": null,
   "id": "d7ea3e1f",
   "metadata": {},
   "outputs": [],
   "source": [
    "Board.objects.bulk_create(data)"
   ]
  },
  {
   "cell_type": "code",
   "execution_count": null,
   "id": "d488f931",
   "metadata": {},
   "outputs": [],
   "source": [
    "board = Board(title=\"게시물 추가\", content=\"내용\")\n",
    "board"
   ]
  },
  {
   "cell_type": "code",
   "execution_count": null,
   "id": "6be2d9e9",
   "metadata": {},
   "outputs": [],
   "source": [
    "board.save()"
   ]
  },
  {
   "cell_type": "markdown",
   "id": "19207d0a",
   "metadata": {},
   "source": [
    "# 조회하기"
   ]
  },
  {
   "cell_type": "markdown",
   "id": "15381498",
   "metadata": {},
   "source": [
    "## raw query로 조회하기"
   ]
  },
  {
   "cell_type": "code",
   "execution_count": null,
   "id": "e2e0f017",
   "metadata": {},
   "outputs": [],
   "source": [
    "result = Board.objects.raw('SELECT * FROM board_board')\n",
    "result"
   ]
  },
  {
   "cell_type": "code",
   "execution_count": null,
   "id": "2b3a73cc",
   "metadata": {},
   "outputs": [],
   "source": [
    "for i in result[:3]:\n",
    "    print(i)"
   ]
  },
  {
   "cell_type": "markdown",
   "id": "b8d0e2f9",
   "metadata": {},
   "source": [
    "## orm으로 조회하기"
   ]
  },
  {
   "cell_type": "markdown",
   "id": "e38fe1dd",
   "metadata": {},
   "source": [
    "### 전체 조회하기"
   ]
  },
  {
   "cell_type": "code",
   "execution_count": null,
   "id": "86e77f0d",
   "metadata": {
    "scrolled": true
   },
   "outputs": [],
   "source": [
    "board_list = Board.objects.all()"
   ]
  },
  {
   "cell_type": "code",
   "execution_count": null,
   "id": "3f4638c3",
   "metadata": {},
   "outputs": [],
   "source": [
    "print(board_list.query)"
   ]
  },
  {
   "cell_type": "markdown",
   "id": "5d879cfc",
   "metadata": {},
   "source": [
    "### filter 걸어서 조회하기(where)"
   ]
  },
  {
   "cell_type": "code",
   "execution_count": null,
   "id": "88ac0db0",
   "metadata": {},
   "outputs": [],
   "source": [
    "board_list = Board.objects.filter(title=\"게시물 추가\")\n",
    "board_list"
   ]
  },
  {
   "cell_type": "code",
   "execution_count": null,
   "id": "f031d9ab",
   "metadata": {},
   "outputs": [],
   "source": [
    "board_list = Board.objects.order_by('-created_at') # order by desc\n",
    "board_list"
   ]
  },
  {
   "cell_type": "code",
   "execution_count": null,
   "id": "997ea2fd",
   "metadata": {},
   "outputs": [],
   "source": [
    "board_list = Board.objects.order_by('-created_at')[2:4] # order by desc limit(2) offset(2)\n",
    "board_list"
   ]
  },
  {
   "cell_type": "markdown",
   "id": "2aaf0c49",
   "metadata": {},
   "source": [
    "###  filter not 표시"
   ]
  },
  {
   "cell_type": "code",
   "execution_count": null,
   "id": "ceab9a70",
   "metadata": {},
   "outputs": [],
   "source": [
    "board_list = Board.objects.exclude(title=\"게시물 추가\")\n",
    "board_list"
   ]
  },
  {
   "cell_type": "code",
   "execution_count": null,
   "id": "d6102710",
   "metadata": {},
   "outputs": [],
   "source": [
    "from django.db.models import Q"
   ]
  },
  {
   "cell_type": "markdown",
   "id": "52fe1d59",
   "metadata": {},
   "source": [
    "0001  \n",
    "1001  \n"
   ]
  },
  {
   "cell_type": "markdown",
   "id": "22b8d9bc",
   "metadata": {},
   "source": [
    "-> \n",
    "and: 0001  \n",
    "or: 1001  \n",
    "not 0001 => 1110  \n",
    "xor: 1000  "
   ]
  },
  {
   "cell_type": "markdown",
   "id": "40452692",
   "metadata": {},
   "source": [
    "####  비트연산\n",
    "- ~: not\n",
    "- &: and\n",
    "- |: or\n",
    "- ^: xor"
   ]
  },
  {
   "cell_type": "code",
   "execution_count": null,
   "id": "70d097ae",
   "metadata": {
    "scrolled": true
   },
   "outputs": [],
   "source": [
    "board_list = Board.objects.filter(~Q(title=\"게시물 추가\"))\n",
    "board_list"
   ]
  },
  {
   "cell_type": "markdown",
   "id": "c2b745b5",
   "metadata": {},
   "source": [
    "## 조회하기 고급"
   ]
  },
  {
   "cell_type": "markdown",
   "id": "390b48f4",
   "metadata": {},
   "source": [
    "### 다양한 조건"
   ]
  },
  {
   "cell_type": "markdown",
   "id": "59333dc2",
   "metadata": {},
   "source": [
    "#### or"
   ]
  },
  {
   "cell_type": "code",
   "execution_count": null,
   "id": "a5a181b9",
   "metadata": {},
   "outputs": [],
   "source": [
    "board_list = Board.objects.filter(Q(title=\"게시글1\") | Q(title=\"게시글2\"))\n",
    "board_list"
   ]
  },
  {
   "cell_type": "markdown",
   "id": "07a52501",
   "metadata": {},
   "source": [
    "##### and 와 연산자"
   ]
  },
  {
   "cell_type": "markdown",
   "id": "5de20c7a",
   "metadata": {},
   "source": [
    "- gte: greater than equal\n",
    "- lte: less than equal\n",
    "- lt: less than\n",
    "- gt: greater than"
   ]
  },
  {
   "cell_type": "code",
   "execution_count": null,
   "id": "0537f462",
   "metadata": {},
   "outputs": [],
   "source": [
    "board_list = Board.objects.filter(Q(title__endswith=\"글1\") & Q(id__gte=3))\n",
    "board_list"
   ]
  },
  {
   "cell_type": "code",
   "execution_count": null,
   "id": "fe265f65",
   "metadata": {},
   "outputs": [],
   "source": [
    "board_list = Board.objects.filter(Q(title__startswith=\"게시\") & Q(created_at__year=2023))\n",
    "board_list"
   ]
  },
  {
   "cell_type": "markdown",
   "id": "e9e7c8fc",
   "metadata": {},
   "source": [
    "# 관계 추가하기"
   ]
  },
  {
   "cell_type": "markdown",
   "id": "3eeec0dc",
   "metadata": {},
   "source": [
    "1번 댓글에 댓글을 3가지 이상 입력하세요"
   ]
  },
  {
   "cell_type": "code",
   "execution_count": null,
   "id": "6bcd2fd7",
   "metadata": {},
   "outputs": [],
   "source": [
    "comment = Comment(\n",
    "    board_id = 1,\n",
    "    content = \"댓글 내용2\"\n",
    ")\n",
    "comment.save()"
   ]
  },
  {
   "cell_type": "code",
   "execution_count": null,
   "id": "292ce14a",
   "metadata": {},
   "outputs": [],
   "source": [
    "board = Board.objects.get(id=1)\n",
    "comment = Comment.objects.create(\n",
    "    board=board,\n",
    "    content = \"댓글 내용3\"\n",
    ")"
   ]
  },
  {
   "cell_type": "code",
   "execution_count": null,
   "id": "95bdc751",
   "metadata": {},
   "outputs": [],
   "source": [
    "for i in range(10):\n",
    "    Comment.objects.create(\n",
    "        board = Board.objects.get(id=2),\n",
    "        content = f\"댓글{i}\"\n",
    "    )"
   ]
  },
  {
   "cell_type": "markdown",
   "id": "f6b0c488",
   "metadata": {},
   "source": [
    "## 관계 조회하기"
   ]
  },
  {
   "cell_type": "code",
   "execution_count": null,
   "id": "ee173070",
   "metadata": {},
   "outputs": [],
   "source": [
    "Comment.objects.all()"
   ]
  },
  {
   "cell_type": "code",
   "execution_count": null,
   "id": "6700f86f",
   "metadata": {},
   "outputs": [],
   "source": [
    "board_list = Board.objects.filter(id__lte=3)\n",
    "board_list"
   ]
  },
  {
   "cell_type": "code",
   "execution_count": null,
   "id": "61aabb4a",
   "metadata": {},
   "outputs": [],
   "source": [
    "board = board_list[0]\n",
    "board"
   ]
  },
  {
   "cell_type": "markdown",
   "id": "61953ab6",
   "metadata": {},
   "source": [
    "###  board가 가지고 있는 comment 모두 조회"
   ]
  },
  {
   "cell_type": "code",
   "execution_count": null,
   "id": "59822a55",
   "metadata": {},
   "outputs": [],
   "source": [
    "board.comment_set.all()"
   ]
  },
  {
   "cell_type": "code",
   "execution_count": null,
   "id": "79b1d844",
   "metadata": {},
   "outputs": [],
   "source": [
    "for board in board_list:\n",
    "    print(board)\n",
    "    print(board.comment_set.all())\n",
    "    print('-'*10)"
   ]
  },
  {
   "cell_type": "code",
   "execution_count": null,
   "id": "56e53649",
   "metadata": {},
   "outputs": [],
   "source": []
  },
  {
   "cell_type": "code",
   "execution_count": null,
   "id": "b9219e4e",
   "metadata": {},
   "outputs": [],
   "source": [
    "board_list = Board.objects.filter(id__lte=5).prefetch_related('comment_set')\n",
    "board_list"
   ]
  },
  {
   "cell_type": "code",
   "execution_count": null,
   "id": "3b0dfbcc",
   "metadata": {},
   "outputs": [],
   "source": [
    "comment_list = board_list[0].comment_set.all()\n",
    "comment_list"
   ]
  },
  {
   "cell_type": "code",
   "execution_count": null,
   "id": "8e0f5cff",
   "metadata": {},
   "outputs": [],
   "source": [
    "comment = comment_list[0]\n",
    "comment.board"
   ]
  },
  {
   "cell_type": "markdown",
   "id": "f4635a9a",
   "metadata": {},
   "source": [
    "# transaction"
   ]
  },
  {
   "cell_type": "code",
   "execution_count": 6,
   "id": "cd957ab4",
   "metadata": {},
   "outputs": [],
   "source": [
    "from django.db import transaction"
   ]
  },
  {
   "cell_type": "code",
   "execution_count": 7,
   "id": "1c57a68a",
   "metadata": {},
   "outputs": [],
   "source": [
    "@transaction.atomic\n",
    "def sample():\n",
    "    board = Board.objects.create(\n",
    "        title='게시글',\n",
    "        content = \"atomic 게시글\"\n",
    "    )\n",
    "    Comment.objects.create(\n",
    "        board=board,\n",
    "        content=\"atomic 댓글\"\n",
    "    )"
   ]
  },
  {
   "cell_type": "code",
   "execution_count": 8,
   "id": "343ce748",
   "metadata": {},
   "outputs": [],
   "source": [
    "sample()"
   ]
  },
  {
   "cell_type": "code",
   "execution_count": 10,
   "id": "b21fda6f",
   "metadata": {},
   "outputs": [],
   "source": [
    "with transaction.atomic():\n",
    "    pass"
   ]
  },
  {
   "cell_type": "code",
   "execution_count": 12,
   "id": "7f7b77b1",
   "metadata": {},
   "outputs": [],
   "source": [
    "file = open(\"sample.txt\", 'wt')\n",
    "file.write(\"파일 쓰기\")\n",
    "file.close()"
   ]
  },
  {
   "cell_type": "code",
   "execution_count": 14,
   "id": "0b3dedfa",
   "metadata": {},
   "outputs": [],
   "source": [
    "with open(\"sample.txt\", 'wt') as f:\n",
    "    f.write(\"파일 쓰기\")"
   ]
  },
  {
   "cell_type": "markdown",
   "id": "da940305",
   "metadata": {},
   "source": [
    "### decorator - @ = 함수다"
   ]
  },
  {
   "cell_type": "code",
   "execution_count": 23,
   "id": "d705eb63",
   "metadata": {},
   "outputs": [],
   "source": [
    "def new_decorator(func):\n",
    "    def wrap():\n",
    "        print(\"decorator 시작\")\n",
    "        func()\n",
    "        print(\"decorator 종료\")\n",
    "    return wrap"
   ]
  },
  {
   "cell_type": "code",
   "execution_count": 24,
   "id": "bf83ff37",
   "metadata": {},
   "outputs": [
    {
     "name": "stdout",
     "output_type": "stream",
     "text": [
      "decorator 시작\n",
      "my_func\n",
      "decorator 종료\n"
     ]
    }
   ],
   "source": [
    "@new_decorator\n",
    "def my_func():\n",
    "    print('my_func')\n",
    "my_func()"
   ]
  },
  {
   "cell_type": "code",
   "execution_count": 26,
   "id": "dc225fac",
   "metadata": {},
   "outputs": [],
   "source": [
    "def my_func2():\n",
    "    print('my_func')"
   ]
  },
  {
   "cell_type": "code",
   "execution_count": 27,
   "id": "e58dcafd",
   "metadata": {},
   "outputs": [
    {
     "name": "stdout",
     "output_type": "stream",
     "text": [
      "decorator 시작\n",
      "my_func\n",
      "decorator 종료\n"
     ]
    }
   ],
   "source": [
    "new_decorator(my_func2)()"
   ]
  },
  {
   "cell_type": "code",
   "execution_count": null,
   "id": "fff66908",
   "metadata": {},
   "outputs": [],
   "source": []
  },
  {
   "cell_type": "code",
   "execution_count": null,
   "id": "215079b7",
   "metadata": {},
   "outputs": [],
   "source": []
  }
 ],
 "metadata": {
  "kernelspec": {
   "display_name": "Python 3 (ipykernel)",
   "language": "python",
   "name": "python3"
  },
  "language_info": {
   "codemirror_mode": {
    "name": "ipython",
    "version": 3
   },
   "file_extension": ".py",
   "mimetype": "text/x-python",
   "name": "python",
   "nbconvert_exporter": "python",
   "pygments_lexer": "ipython3",
   "version": "3.9.13"
  }
 },
 "nbformat": 4,
 "nbformat_minor": 5
}
